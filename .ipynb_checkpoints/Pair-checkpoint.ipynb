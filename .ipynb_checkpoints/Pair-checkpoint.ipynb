{
 "cells": [
  {
   "cell_type": "code",
   "execution_count": 50,
   "metadata": {},
   "outputs": [],
   "source": [
    "# class TypeError(Exception):\n",
    "#     ''' '''\n",
    "#     pass\n",
    "\n",
    "class Pair:\n",
    "    def __init__(self, left, right):\n",
    "        types = [str, int, Pair, None]\n",
    "\n",
    "        if type(left) in types:\n",
    "            self.__left = left\n",
    "        else:\n",
    "            print('Illegal type: left')\n",
    "            \n",
    "        if type(right) in types:\n",
    "            self.__right = right\n",
    "        else:\n",
    "            print('Illegal type: left')\n",
    "        \n",
    "    def getString(self):\n",
    "        if type(self.__data) == str:\n",
    "            return self.__data\n",
    "        else:\n",
    "            print('Not string data')\n",
    "    \n",
    "    \n",
    "    "
   ]
  },
  {
   "cell_type": "code",
   "execution_count": 53,
   "metadata": {},
   "outputs": [
    {
     "data": {
      "text/plain": [
       "'123'"
      ]
     },
     "execution_count": 53,
     "metadata": {},
     "output_type": "execute_result"
    }
   ],
   "source": [
    "p1 = Pair(123)\n",
    "p2 = Pair('123')\n",
    "\n",
    "p2.getString()"
   ]
  }
 ],
 "metadata": {
  "kernelspec": {
   "display_name": "Python 3",
   "language": "python",
   "name": "python3"
  },
  "language_info": {
   "codemirror_mode": {
    "name": "ipython",
    "version": 3
   },
   "file_extension": ".py",
   "mimetype": "text/x-python",
   "name": "python",
   "nbconvert_exporter": "python",
   "pygments_lexer": "ipython3",
   "version": "3.7.3"
  }
 },
 "nbformat": 4,
 "nbformat_minor": 2
}
