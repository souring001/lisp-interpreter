{
 "cells": [
  {
   "cell_type": "code",
   "execution_count": 272,
   "metadata": {},
   "outputs": [],
   "source": [
    "class Pair:\n",
    "    def __init__(self, data):\n",
    "        types = [str, int]\n",
    "        if type(data) in types or (type(data) == tuple and len(data) == 2):\n",
    "            self.__data = data\n",
    "        else:\n",
    "            print('Illegal data type: data must be str, int, tuple')\n",
    "            \n",
    "    def getString(self):\n",
    "        if type(self.__data) == str:\n",
    "            return self.__data\n",
    "        else:\n",
    "            return 'Not a string data'\n",
    "            \n",
    "    def getNumber(self):\n",
    "        if type(self.__data) == int:\n",
    "            return self.__data\n",
    "        else:\n",
    "            return 'Not a number data'\n",
    "            \n",
    "    def getLeft(self):\n",
    "        if type(self.__data) == tuple:\n",
    "            return self.__data[0]\n",
    "        else:\n",
    "            return 'Not a leaf data'\n",
    "            \n",
    "    def getRight(self):\n",
    "        if type(self.__data) == tuple:\n",
    "            return self.__data[1]\n",
    "        else:\n",
    "            return 'Not a leaf data'\n",
    "        \n",
    "    def getData(self):\n",
    "        return self.__data\n",
    "    \n",
    "    def atom(pair):\n",
    "        types = [str, int]\n",
    "        if pair is None:\n",
    "            return Pair((None, None))\n",
    "        else:\n",
    "            data = pair.getData()\n",
    "            if type(data) in types:\n",
    "                return Pair((None, None))\n",
    "        return None\n",
    "\n",
    "    def eq(pair1, pair2):\n",
    "        data1 = None if pair1 is None else pair1.getData()\n",
    "        data2 = None if pair2 is None else pair2.getData()\n",
    "        \n",
    "        if data1 == data2:\n",
    "            return Pair((None, None))\n",
    "        else:\n",
    "            return None\n",
    "    \n",
    "    def cond(pair1, pair2, pair3):\n",
    "        if pair1 is not None:\n",
    "            return pair2\n",
    "        else:\n",
    "            return pair3\n",
    "        \n",
    "    def eval(pair, env):\n",
    "        if Pair.atom(pair) is not None:\n",
    "            return pair\n",
    "        \n",
    "        left = pair.getLeft()\n",
    "        right = pair.getRight()\n",
    "        \n",
    "        if left == 'car':\n",
    "            return right.getLeft()\n",
    "        if left == 'cdr':\n",
    "            return right.getRight()\n",
    "        if left == 'cons':\n",
    "            return Pair((right.getLeft(), right.getRight().getLeft()))\n",
    "        if left == 'atom':\n",
    "            return Pair.atom(right)\n",
    "        if left == 'eq':\n",
    "            return Pair.eq(right.getLeft(), right.getRight().getLeft())\n",
    "        if left == 'if':\n",
    "            return Pair.cond(right.getLeft(), right.getRight().getLeft(), right.getRight().getRight().getLeft())"
   ]
  },
  {
   "cell_type": "code",
   "execution_count": 274,
   "metadata": {},
   "outputs": [
    {
     "name": "stdout",
     "output_type": "stream",
     "text": [
      "('car', (1, 2)): 1\n"
     ]
    },
    {
     "ename": "TypeError",
     "evalue": "eval() missing 1 required positional argument: 'env'",
     "output_type": "error",
     "traceback": [
      "\u001b[0;31m---------------------------------------------------------------------------\u001b[0m",
      "\u001b[0;31mTypeError\u001b[0m                                 Traceback (most recent call last)",
      "\u001b[0;32m<ipython-input-274-b78baf8f51ee>\u001b[0m in \u001b[0;36m<module>\u001b[0;34m\u001b[0m\n\u001b[1;32m     25\u001b[0m \u001b[0;34m\u001b[0m\u001b[0m\n\u001b[1;32m     26\u001b[0m \u001b[0mprint\u001b[0m\u001b[0;34m(\u001b[0m\u001b[0;34m\"('car', (1, 2)):\"\u001b[0m\u001b[0;34m,\u001b[0m \u001b[0mPair\u001b[0m\u001b[0;34m.\u001b[0m\u001b[0meval\u001b[0m\u001b[0;34m(\u001b[0m\u001b[0me1\u001b[0m\u001b[0;34m,\u001b[0m \u001b[0menv\u001b[0m\u001b[0;34m)\u001b[0m\u001b[0;34m.\u001b[0m\u001b[0mgetData\u001b[0m\u001b[0;34m(\u001b[0m\u001b[0;34m)\u001b[0m\u001b[0;34m)\u001b[0m\u001b[0;34m\u001b[0m\u001b[0;34m\u001b[0m\u001b[0m\n\u001b[0;32m---> 27\u001b[0;31m \u001b[0mprint\u001b[0m\u001b[0;34m(\u001b[0m\u001b[0;34m\"('cdr', (1, 2)):\"\u001b[0m\u001b[0;34m,\u001b[0m \u001b[0mPair\u001b[0m\u001b[0;34m.\u001b[0m\u001b[0meval\u001b[0m\u001b[0;34m(\u001b[0m\u001b[0me2\u001b[0m\u001b[0;34m)\u001b[0m\u001b[0;34m.\u001b[0m\u001b[0mgetData\u001b[0m\u001b[0;34m(\u001b[0m\u001b[0;34m)\u001b[0m\u001b[0;34m)\u001b[0m\u001b[0;34m\u001b[0m\u001b[0;34m\u001b[0m\u001b[0m\n\u001b[0m\u001b[1;32m     28\u001b[0m \u001b[0mprint\u001b[0m\u001b[0;34m(\u001b[0m\u001b[0;34m\"('atom', p1)\"\u001b[0m\u001b[0;34m,\u001b[0m \u001b[0mPair\u001b[0m\u001b[0;34m.\u001b[0m\u001b[0meval\u001b[0m\u001b[0;34m(\u001b[0m\u001b[0me4\u001b[0m\u001b[0;34m)\u001b[0m \u001b[0;32mis\u001b[0m \u001b[0;32mnot\u001b[0m \u001b[0;32mNone\u001b[0m\u001b[0;34m)\u001b[0m\u001b[0;34m\u001b[0m\u001b[0;34m\u001b[0m\u001b[0m\n\u001b[1;32m     29\u001b[0m \u001b[0mprint\u001b[0m\u001b[0;34m(\u001b[0m\u001b[0;34m\"('atom', p5)\"\u001b[0m\u001b[0;34m,\u001b[0m \u001b[0mPair\u001b[0m\u001b[0;34m.\u001b[0m\u001b[0meval\u001b[0m\u001b[0;34m(\u001b[0m\u001b[0me5\u001b[0m\u001b[0;34m)\u001b[0m \u001b[0;32mis\u001b[0m \u001b[0;32mnot\u001b[0m \u001b[0;32mNone\u001b[0m\u001b[0;34m)\u001b[0m\u001b[0;34m\u001b[0m\u001b[0;34m\u001b[0m\u001b[0m\n",
      "\u001b[0;31mTypeError\u001b[0m: eval() missing 1 required positional argument: 'env'"
     ]
    }
   ],
   "source": [
    "env = {'x':100, 'y':200}\n",
    "\n",
    "p1 = Pair(1)\n",
    "p2 = Pair(2)\n",
    "p3 = None\n",
    "p4 = Pair((p1, p2))\n",
    "p5 = Pair((p1, p3))\n",
    "s1 = Pair('x')\n",
    "s2 = Pair('y')\n",
    "e1 = Pair(('car', p4))\n",
    "e2 = Pair(('cdr', p4))\n",
    "e3 = Pair(('cons', p1))\n",
    "e4 = Pair(('atom', p1))\n",
    "e5 = Pair(('atom', p4))\n",
    "r1 = Pair((s1, Pair((s2, None))))\n",
    "r2 = Pair((s1, Pair((s1, None))))\n",
    "e6 = Pair(('cons', r1))\n",
    "e7 = Pair(('eq', r2))\n",
    "i1 = Pair((p2, None))\n",
    "i2 = Pair((p1, i1))\n",
    "i3 = Pair((p3, i2))\n",
    "i4 = Pair((p1, i2))\n",
    "e8 = Pair(('if', i3))\n",
    "e9 = Pair(('if', i4))\n",
    "\n",
    "print(\"('car', (1, 2)):\", Pair.eval(e1, env).getData())\n",
    "print(\"('cdr', (1, 2)):\", Pair.eval(e2, env).getData())\n",
    "print(\"('atom', p1)\", Pair.eval(e4, env) is not None)\n",
    "print(\"('atom', p5)\", Pair.eval(e5, env) is not None)\n",
    "print(\"('cons', r1)\", Pair.eval(e6, env))\n",
    "print(\"('eq', r2)\", Pair.eval(e7, env))\n",
    "print(\"('if', e8)\", Pair.eval(e8, env).getData())\n",
    "print(\"('if', e8)\", Pair.eval(e9, env).getData())"
   ]
  },
  {
   "cell_type": "code",
   "execution_count": 204,
   "metadata": {},
   "outputs": [],
   "source": [
    "p1 = Pair(1)\n",
    "p2 = Pair(2)\n",
    "p3 = None\n",
    "p4 = Pair((p1, p2))\n",
    "p5 = Pair((p1, p3))\n",
    "# Pair.eq(p3, p3)\n",
    "# Pair.atom(p4)\n",
    "# Pair.cond(None, p1, p2).getData()\n",
    "# Pair.cond(p1, p1, p2).getData()"
   ]
  },
  {
   "cell_type": "code",
   "execution_count": 108,
   "metadata": {},
   "outputs": [
    {
     "data": {
      "text/plain": [
       "2"
      ]
     },
     "execution_count": 108,
     "metadata": {},
     "output_type": "execute_result"
    }
   ],
   "source": [
    "type((1,1))\n",
    "a = (2,3)\n",
    "a[0]"
   ]
  },
  {
   "cell_type": "code",
   "execution_count": 184,
   "metadata": {},
   "outputs": [],
   "source": [
    "p1 = Pair('1')\n",
    "p2 = Pair(1)\n",
    "p3 = Pair(1)\n",
    "p4 = Pair((p1, p2))\n",
    "p5 = Pair((p1, p3))\n",
    "\n",
    "Pair.eq(p5, p4)"
   ]
  },
  {
   "cell_type": "code",
   "execution_count": 118,
   "metadata": {},
   "outputs": [
    {
     "name": "stdout",
     "output_type": "stream",
     "text": [
      "\n",
      "123\n",
      "Not a string data\n",
      "None\n",
      "Not a string data\n",
      "None\n",
      "Not a string data\n",
      "None\n",
      "\n",
      "Not a number data\n",
      "None\n",
      "123\n",
      "Not a number data\n",
      "None\n",
      "Not a number data\n",
      "None\n",
      "\n",
      "Not a leaf data\n",
      "None\n",
      "Not a leaf data\n",
      "None\n",
      "<__main__.Pair object at 0x104c60048>\n",
      "Not a leaf data\n",
      "None\n"
     ]
    }
   ],
   "source": [
    "p1 = Pair('123')\n",
    "p2 = Pair(123)\n",
    "p3 = Pair((p1, p2))\n",
    "p4 = Pair(None)\n",
    "\n",
    "print()\n",
    "\n",
    "print(p1.getString())\n",
    "print(p2.getString())\n",
    "print(p3.getString())\n",
    "print(p4.getString())\n",
    "\n",
    "print()\n",
    "\n",
    "print(p1.getNumber())\n",
    "print(p2.getNumber())\n",
    "print(p3.getNumber())\n",
    "print(p4.getNumber())\n",
    "\n",
    "print()\n",
    "\n",
    "print(p1.getLeft())\n",
    "print(p2.getLeft())\n",
    "print(p3.getLeft())\n",
    "print(p4.getLeft())"
   ]
  },
  {
   "cell_type": "code",
   "execution_count": null,
   "metadata": {},
   "outputs": [],
   "source": []
  }
 ],
 "metadata": {
  "kernelspec": {
   "display_name": "Python 3",
   "language": "python",
   "name": "python3"
  },
  "language_info": {
   "codemirror_mode": {
    "name": "ipython",
    "version": 3
   },
   "file_extension": ".py",
   "mimetype": "text/x-python",
   "name": "python",
   "nbconvert_exporter": "python",
   "pygments_lexer": "ipython3",
   "version": "3.7.3"
  }
 },
 "nbformat": 4,
 "nbformat_minor": 2
}
