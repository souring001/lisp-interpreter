{
 "cells": [
  {
   "cell_type": "code",
   "execution_count": 170,
   "metadata": {},
   "outputs": [],
   "source": [
    "class Pair:\n",
    "    def __init__(self, data=None):\n",
    "        types = [str, int]\n",
    "        if type(data) in types or data is None or (type(data) == tuple and len(data) == 2):\n",
    "            self.__data = data\n",
    "        else:\n",
    "            print('Illegal data type: data must be str, int, None')\n",
    "            \n",
    "    def getString(self):\n",
    "        if type(self.__data) == str:\n",
    "            return self.__data\n",
    "        else:\n",
    "            return 'Not a string data'\n",
    "            \n",
    "    def getNumber(self):\n",
    "        if type(self.__data) == int:\n",
    "            return self.__data\n",
    "        else:\n",
    "            return 'Not a number data'\n",
    "            \n",
    "    def getLeft(self):\n",
    "        if type(self.__data) == tuple:\n",
    "            return self.__data[0]\n",
    "        else:\n",
    "            return 'Not a leaf data'\n",
    "            \n",
    "    def getRight(self):\n",
    "        if type(self.__data) == tuple:\n",
    "            return self.__data[1]\n",
    "        else:\n",
    "            return 'Not a leaf data'\n",
    "        \n",
    "    def getData(self):\n",
    "        return self.__data\n",
    "    \n",
    "    def atom(pair):\n",
    "        ret = None\n",
    "        types = [str, int]\n",
    "        data = pair.getData()\n",
    "        if type(data) in types or data is None:\n",
    "            ret = Pair((None, None))\n",
    "        return ret\n",
    "\n",
    "    def eq(pair1, pair2):\n",
    "        ret = None\n",
    "        if pair1.getData() == pair2.getData():\n",
    "            ret = Pair((None, None))\n",
    "        return ret\n",
    "    \n",
    "    def cond(pair1, pair2, pair3):\n",
    "        pass"
   ]
  },
  {
   "cell_type": "code",
   "execution_count": 160,
   "metadata": {},
   "outputs": [],
   "source": [
    "p1 = Pair()"
   ]
  },
  {
   "cell_type": "code",
   "execution_count": 149,
   "metadata": {},
   "outputs": [
    {
     "data": {
      "text/plain": [
       "<__main__.Pair at 0x104c57470>"
      ]
     },
     "execution_count": 149,
     "metadata": {},
     "output_type": "execute_result"
    }
   ],
   "source": [
    "p1 = Pair('1')\n",
    "Pair.atom(p1)"
   ]
  },
  {
   "cell_type": "code",
   "execution_count": 108,
   "metadata": {},
   "outputs": [
    {
     "data": {
      "text/plain": [
       "2"
      ]
     },
     "execution_count": 108,
     "metadata": {},
     "output_type": "execute_result"
    }
   ],
   "source": [
    "type((1,1))\n",
    "a = (2,3)\n",
    "a[0]"
   ]
  },
  {
   "cell_type": "code",
   "execution_count": 138,
   "metadata": {},
   "outputs": [],
   "source": [
    "p1 = Pair('1')\n",
    "p2 = Pair(1)\n",
    "p3 = Pair(1)\n",
    "p4 = Pair((p1, p2))\n",
    "p5 = Pair((p1, p3))\n",
    "\n",
    "Pair.eq(p5, p4)"
   ]
  },
  {
   "cell_type": "code",
   "execution_count": 118,
   "metadata": {},
   "outputs": [
    {
     "name": "stdout",
     "output_type": "stream",
     "text": [
      "\n",
      "123\n",
      "Not a string data\n",
      "None\n",
      "Not a string data\n",
      "None\n",
      "Not a string data\n",
      "None\n",
      "\n",
      "Not a number data\n",
      "None\n",
      "123\n",
      "Not a number data\n",
      "None\n",
      "Not a number data\n",
      "None\n",
      "\n",
      "Not a leaf data\n",
      "None\n",
      "Not a leaf data\n",
      "None\n",
      "<__main__.Pair object at 0x104c60048>\n",
      "Not a leaf data\n",
      "None\n"
     ]
    }
   ],
   "source": [
    "p1 = Pair('123')\n",
    "p2 = Pair(123)\n",
    "p3 = Pair((p1, p2))\n",
    "p4 = Pair(None)\n",
    "\n",
    "print()\n",
    "\n",
    "print(p1.getString())\n",
    "print(p2.getString())\n",
    "print(p3.getString())\n",
    "print(p4.getString())\n",
    "\n",
    "print()\n",
    "\n",
    "print(p1.getNumber())\n",
    "print(p2.getNumber())\n",
    "print(p3.getNumber())\n",
    "print(p4.getNumber())\n",
    "\n",
    "print()\n",
    "\n",
    "print(p1.getLeft())\n",
    "print(p2.getLeft())\n",
    "print(p3.getLeft())\n",
    "print(p4.getLeft())"
   ]
  },
  {
   "cell_type": "code",
   "execution_count": null,
   "metadata": {},
   "outputs": [],
   "source": []
  }
 ],
 "metadata": {
  "kernelspec": {
   "display_name": "Python 3",
   "language": "python",
   "name": "python3"
  },
  "language_info": {
   "codemirror_mode": {
    "name": "ipython",
    "version": 3
   },
   "file_extension": ".py",
   "mimetype": "text/x-python",
   "name": "python",
   "nbconvert_exporter": "python",
   "pygments_lexer": "ipython3",
   "version": "3.7.3"
  }
 },
 "nbformat": 4,
 "nbformat_minor": 2
}
