{
 "cells": [
  {
   "cell_type": "markdown",
   "metadata": {},
   "source": [
    "# Class: Pair"
   ]
  },
  {
   "cell_type": "code",
   "execution_count": 570,
   "metadata": {},
   "outputs": [],
   "source": [
    "class Pair:\n",
    "    def __init__(self, data):\n",
    "        types = [str, int]\n",
    "        if type(data) in types or (type(data) == tuple and len(data) == 2):\n",
    "            self.__data = data\n",
    "        else:\n",
    "            print('Illegal data type: data must be str, int, tuple')\n",
    "            \n",
    "    def getString(self):\n",
    "        if type(self.__data) == str:\n",
    "            return self.__data\n",
    "        else:\n",
    "            return 'Not a string data'\n",
    "            \n",
    "    def getNumber(self):\n",
    "        if type(self.__data) == int:\n",
    "            return self.__data\n",
    "        else:\n",
    "            return 'Not a number data'\n",
    "            \n",
    "    def getLeft(self):\n",
    "        if type(self.__data) == tuple:\n",
    "            return self.__data[0]\n",
    "        else:\n",
    "            return 'Not a leaf data'\n",
    "            \n",
    "    def getRight(self):\n",
    "        if type(self.__data) == tuple:\n",
    "            return self.__data[1]\n",
    "        else:\n",
    "            return 'Not a leaf data'\n",
    "        \n",
    "    def getData(self):\n",
    "        return self.__data\n",
    "    \n",
    "    def atom(pair):\n",
    "        types = [str, int]\n",
    "        if pair is None:\n",
    "            return Pair((None, None))\n",
    "        else:\n",
    "            data = pair.getData()\n",
    "            if type(data) in types:\n",
    "                return Pair((None, None))\n",
    "        return None\n",
    "\n",
    "    def eq(pair1, pair2):\n",
    "        data1 = None if pair1 is None else pair1.getData()\n",
    "        data2 = None if pair2 is None else pair2.getData()\n",
    "        \n",
    "        if data1 == data2:\n",
    "            return Pair((None, None))\n",
    "        else:\n",
    "            return None\n",
    "    \n",
    "    def cond(pair1, pair2, pair3):\n",
    "        if pair1 is not None:\n",
    "            return pair2\n",
    "        else:\n",
    "            return pair3\n",
    "        \n",
    "    def eval(pair, env):\n",
    "        if Pair.atom(pair) is not None:\n",
    "            val = pair.getData()\n",
    "            if type(val)==str and val in env:\n",
    "                return Pair(env[val])\n",
    "            return pair\n",
    "        \n",
    "        left = pair.getLeft().getString()\n",
    "        right = pair.getRight()\n",
    "        \n",
    "        if left == 'car':\n",
    "            return Pair.eval(right.getLeft(), env).getLeft()\n",
    "        elif left == 'cdr':\n",
    "            return Pair.eval(right.getLeft(), env).getRight()\n",
    "        elif left == 'cons':\n",
    "            return Pair((Pair.eval(right.getLeft(), env), Pair.eval(right.getRight().getLeft(), env)))\n",
    "        elif left == 'atom':\n",
    "            return Pair.atom(Pair.eval(right.getLeft(), env))\n",
    "        elif left == 'eq':\n",
    "            return Pair.eq(Pair.eval(right.getLeft(), env), Pair.eval(right.getRight().getLeft(),env))\n",
    "        elif left == 'if':\n",
    "            return Pair.eval(Pair.cond(Pair.eval(right.getLeft(), env), right.getRight().getLeft(), right.getRight().getRight().getLeft()))\n",
    "        elif left == '+':\n",
    "            x = Pair.eval(right.getLeft(), env).getData()\n",
    "            y = Pair.eval(right.getRight().getLeft(), env).getData()\n",
    "            return Pair(x+y)\n",
    "        elif left == 'square':\n",
    "            x = Pair.eval(right.getLeft(), env).getData()\n",
    "            return Pair(x**2)\n",
    "            \n",
    "        \n",
    "    def print(pair):\n",
    "        if Pair.atom(pair) is not None:\n",
    "            if pair is not None:\n",
    "                if type(pair.getData()) == int:\n",
    "                    print(pair.getData(), end='')\n",
    "                if type(pair.getData()) == str:\n",
    "                    print('\\'' + pair.getData()+'\\'', end='')\n",
    "            else:\n",
    "                print('nil', end='')\n",
    "        else:\n",
    "            print('(', end='')\n",
    "            Pair.print(pair.getLeft())\n",
    "            print(', ', end='')\n",
    "            Pair.print(pair.getRight())\n",
    "            print(')', end='')"
   ]
  },
  {
   "cell_type": "markdown",
   "metadata": {},
   "source": [
    "# 再帰下降構文解析"
   ]
  },
  {
   "cell_type": "code",
   "execution_count": 529,
   "metadata": {},
   "outputs": [],
   "source": [
    "def lex(source):\n",
    "    source = source.replace('(', ' ( ')\n",
    "    source = source.replace(')', ' ) ')\n",
    "    source = source.split()\n",
    "    return source\n",
    "\n",
    "def parse_seq(tokens):\n",
    "    if tokens[0]==')':\n",
    "        return None\n",
    "    else:\n",
    "        p = parse(tokens)\n",
    "        return Pair((p, parse_seq(tokens)))\n",
    "\n",
    "def parse(tokens):\n",
    "    token = tokens.pop(0)\n",
    "    if token == '(':\n",
    "        result = parse_seq(tokens)\n",
    "        token = tokens.pop(0)\n",
    "        if token == ')':\n",
    "            return result\n",
    "        raise SyntaxError('expected )')\n",
    "    elif ')' == token:\n",
    "        raise SyntaxError('unexpected )')\n",
    "    else:\n",
    "        return Pair(atom(token))\n",
    "    \n",
    "def atom(token):\n",
    "    if token.isdigit():\n",
    "        token = int(token)\n",
    "    return token"
   ]
  },
  {
   "cell_type": "markdown",
   "metadata": {},
   "source": [
    "# テスト"
   ]
  },
  {
   "cell_type": "code",
   "execution_count": 560,
   "metadata": {},
   "outputs": [
    {
     "name": "stdout",
     "output_type": "stream",
     "text": [
      "('car', (('cons', ('x', ('y', nil))), nil))\n",
      "100"
     ]
    }
   ],
   "source": [
    "tokens = lex('(car (cons x y))')\n",
    "p = parse(tokens)\n",
    "Pair.print(p)\n",
    "\n",
    "print()\n",
    "Pair.print(Pair.eval(p, env))"
   ]
  },
  {
   "cell_type": "code",
   "execution_count": 569,
   "metadata": {},
   "outputs": [
    {
     "name": "stdout",
     "output_type": "stream",
     "text": [
      "('+', ('x', (2, nil)))\n",
      "102"
     ]
    }
   ],
   "source": [
    "tokens = lex('(+ x 2)')\n",
    "p = parse(tokens)\n",
    "Pair.print(p)\n",
    "\n",
    "print()\n",
    "Pair.print(Pair.eval(p, env))"
   ]
  },
  {
   "cell_type": "code",
   "execution_count": 572,
   "metadata": {},
   "outputs": [
    {
     "name": "stdout",
     "output_type": "stream",
     "text": [
      "('square', (('+', ('x', ('y', nil))), nil))\n",
      "90000"
     ]
    }
   ],
   "source": [
    "tokens = lex('(square (+ x y))')\n",
    "p = parse(tokens)\n",
    "Pair.print(p)\n",
    "\n",
    "print()\n",
    "Pair.print(Pair.eval(p, env))"
   ]
  },
  {
   "cell_type": "code",
   "execution_count": 338,
   "metadata": {},
   "outputs": [
    {
     "name": "stdout",
     "output_type": "stream",
     "text": [
      "(car, (1, 2))('car', (1, 2)): None\n",
      "('cdr', (1, 2)): None\n",
      "('atom', p1) False\n",
      "('atom', p5) False\n",
      "('cons', r1) None\n",
      "('eq', r2) None\n",
      "('if', e8) None\n",
      "('if', e8) None\n"
     ]
    }
   ],
   "source": [
    "env = {'x':100, 'y':200}\n",
    "\n",
    "p1 = Pair(1)\n",
    "p2 = Pair(2)\n",
    "p3 = None\n",
    "p4 = Pair((p1, p2))\n",
    "p5 = Pair((p1, p3))\n",
    "s1 = Pair('x')\n",
    "s2 = Pair('y')\n",
    "m_atom = Pair('atom')\n",
    "m_car = Pair('car')\n",
    "m_cdr = Pair('cdr')\n",
    "m_cons = Pair('cons')\n",
    "m_eq = Pair('eq')\n",
    "m_if = Pair('if')\n",
    "e1 = Pair((m_car, p4))\n",
    "e2 = Pair((m_cdr, p4))\n",
    "e3 = Pair((m_cons, p1))\n",
    "e4 = Pair((m_atom, p1))\n",
    "e5 = Pair((m_atom, p4))\n",
    "r1 = Pair((s1, Pair((s2, None))))\n",
    "r2 = Pair((s1, Pair((s1, None))))\n",
    "e6 = Pair((m_cons, r1))\n",
    "e7 = Pair((m_eq, r2))\n",
    "i1 = Pair((p2, None))\n",
    "i2 = Pair((p1, i1))\n",
    "i3 = Pair((p3, i2))\n",
    "i4 = Pair((p1, i2))\n",
    "e8 = Pair((m_if, i3))\n",
    "e9 = Pair((m_if, i4))\n",
    "\n",
    "Pair.print(e1)\n",
    "print(\"('car', (1, 2)):\", Pair.eval(e1, env)) #1\n",
    "print(\"('cdr', (1, 2)):\", Pair.eval(e2, env)) #2\n",
    "print(\"('atom', p1)\", Pair.eval(e4, env) is not None) #True\n",
    "print(\"('atom', p5)\", Pair.eval(e5, env) is not None) #False\n",
    "print(\"('cons', r1)\", Pair.eval(e6, env)) #(x, y)\n",
    "print(\"('eq', r2)\", Pair.eval(e7, env)) #(x, x)\n",
    "print(\"('if', e8)\", Pair.eval(e8, env))\n",
    "print(\"('if', e8)\", Pair.eval(e9, env))"
   ]
  },
  {
   "cell_type": "code",
   "execution_count": 204,
   "metadata": {},
   "outputs": [],
   "source": [
    "p1 = Pair(1)\n",
    "p2 = Pair(2)\n",
    "p3 = None\n",
    "p4 = Pair((p1, p2))\n",
    "p5 = Pair((p1, p3))\n",
    "# Pair.eq(p3, p3)\n",
    "# Pair.atom(p4)\n",
    "# Pair.cond(None, p1, p2).getData()\n",
    "# Pair.cond(p1, p1, p2).getData()"
   ]
  },
  {
   "cell_type": "code",
   "execution_count": 184,
   "metadata": {},
   "outputs": [],
   "source": [
    "p1 = Pair('1')\n",
    "p2 = Pair(1)\n",
    "p3 = Pair(1)\n",
    "p4 = Pair((p1, p2))\n",
    "p5 = Pair((p1, p3))\n",
    "\n",
    "Pair.eq(p5, p4)"
   ]
  },
  {
   "cell_type": "code",
   "execution_count": 118,
   "metadata": {},
   "outputs": [
    {
     "name": "stdout",
     "output_type": "stream",
     "text": [
      "\n",
      "123\n",
      "Not a string data\n",
      "None\n",
      "Not a string data\n",
      "None\n",
      "Not a string data\n",
      "None\n",
      "\n",
      "Not a number data\n",
      "None\n",
      "123\n",
      "Not a number data\n",
      "None\n",
      "Not a number data\n",
      "None\n",
      "\n",
      "Not a leaf data\n",
      "None\n",
      "Not a leaf data\n",
      "None\n",
      "<__main__.Pair object at 0x104c60048>\n",
      "Not a leaf data\n",
      "None\n"
     ]
    }
   ],
   "source": [
    "p1 = Pair('123')\n",
    "p2 = Pair(123)\n",
    "p3 = Pair((p1, p2))\n",
    "p4 = Pair(None)\n",
    "\n",
    "print()\n",
    "\n",
    "print(p1.getString())\n",
    "print(p2.getString())\n",
    "print(p3.getString())\n",
    "print(p4.getString())\n",
    "\n",
    "print()\n",
    "\n",
    "print(p1.getNumber())\n",
    "print(p2.getNumber())\n",
    "print(p3.getNumber())\n",
    "print(p4.getNumber())\n",
    "\n",
    "print()\n",
    "\n",
    "print(p1.getLeft())\n",
    "print(p2.getLeft())\n",
    "print(p3.getLeft())\n",
    "print(p4.getLeft())"
   ]
  },
  {
   "cell_type": "markdown",
   "metadata": {},
   "source": [
    "# Reference"
   ]
  },
  {
   "cell_type": "code",
   "execution_count": null,
   "metadata": {},
   "outputs": [],
   "source": [
    "def read_from(tokens):\n",
    "    \"トークンの列から式を読み込む。\"\n",
    "    if len(tokens) == 0:\n",
    "        raise SyntaxError('unexpected EOF while reading')\n",
    "    token = tokens.pop(0)\n",
    "    if '(' == token:\n",
    "        L = []\n",
    "        while tokens[0] != ')':\n",
    "            L.append(read_from(tokens))\n",
    "        tokens.pop(0) # pop off ')'\n",
    "        return L\n",
    "    elif ')' == token:\n",
    "        raise SyntaxError('unexpected )')\n",
    "    else:\n",
    "        return atom(token)\n",
    "    \n",
    "def atom(token):\n",
    "    \"数は数にし、それ以外のトークンはシンボルにする。\"\n",
    "    try: return int(token)\n",
    "    except ValueError:\n",
    "        try: return float(token)\n",
    "        except ValueError:\n",
    "            return Symbol(token)"
   ]
  },
  {
   "cell_type": "markdown",
   "metadata": {},
   "source": [
    "# gomi"
   ]
  },
  {
   "cell_type": "code",
   "execution_count": null,
   "metadata": {},
   "outputs": [],
   "source": [
    "def oldparse2(tokens):\n",
    "    pair = None\n",
    "    token = tokens.pop(0)\n",
    "    if '(' == token:\n",
    "        while tokens[0] != ')':\n",
    "            pair = parse(tokens)\n",
    "        tokens.pop(0)\n",
    "#         return Pair()\n",
    "    elif ')' == token:\n",
    "        raise SyntaxError('unexpected )')\n",
    "    else:\n",
    "        return Pair(atom(token))\n",
    "\n",
    "\n",
    "\n",
    "def oldparse(tokens):\n",
    "    pair = None\n",
    "    for c in reversed(tokens):\n",
    "        if c == '(' or c==')':\n",
    "            continue\n",
    "            \n",
    "        if c.isdigit():\n",
    "            c = int(c)\n",
    "        \n",
    "        p = Pair(c)\n",
    "        left = Pair((p, None))\n",
    "        \n",
    "        if pair is not None:\n",
    "            pair = Pair((left.getLeft(), pair))\n",
    "        else:\n",
    "            pair = left\n",
    "#         print(c)\n",
    "    return pair"
   ]
  }
 ],
 "metadata": {
  "kernelspec": {
   "display_name": "Python 3",
   "language": "python",
   "name": "python3"
  },
  "language_info": {
   "codemirror_mode": {
    "name": "ipython",
    "version": 3
   },
   "file_extension": ".py",
   "mimetype": "text/x-python",
   "name": "python",
   "nbconvert_exporter": "python",
   "pygments_lexer": "ipython3",
   "version": "3.7.3"
  }
 },
 "nbformat": 4,
 "nbformat_minor": 2
}
